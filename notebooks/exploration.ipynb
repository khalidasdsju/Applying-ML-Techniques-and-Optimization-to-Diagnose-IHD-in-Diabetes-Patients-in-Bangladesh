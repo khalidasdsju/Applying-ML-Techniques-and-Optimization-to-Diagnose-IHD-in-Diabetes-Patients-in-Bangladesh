{
 "cells": [
  {
   "cell_type": "markdown",
   "metadata": {},
   "source": [
    "# Ischemic Heart Disease (IHD) Diagnosis - Data Exploration\n",
    "\n",
    "This notebook explores the dataset for the IHD diagnosis project."
   ]
  },
  {
   "cell_type": "code",
   "execution_count": null,
   "metadata": {},
   "source": [
    "# Import libraries\n",
    "import numpy as np\n",
    "import pandas as pd\n",
    "import matplotlib.pyplot as plt\n",
    "import seaborn as sns\n",
    "\n",
    "# Set plot style\n",
    "plt.style.use('seaborn-v0_8-whitegrid')\n",
    "sns.set_palette('viridis')\n",
    "\n",
    "# Ignore warnings\n",
    "import warnings\n",
    "warnings.filterwarnings('ignore')"
   ]
  },
  {
   "cell_type": "markdown",
   "metadata": {},
   "source": [
    "## Load Data\n",
    "\n",
    "Load the dataset from the SPSS file."
   ]
  },
  {
   "cell_type": "code",
   "execution_count": null,
   "metadata": {},
   "source": [
    "# Load data\n",
    "data = pd.read_spss('../data/ASDS_Study_Data.sav')\n",
    "\n",
    "# Display basic information\n",
    "print(f\"Dataset shape: {data.shape}\")\n",
    "data.info()"
   ]
  },
  {
   "cell_type": "markdown",
   "metadata": {},
   "source": [
    "## Clean Column Names\n",
    "\n",
    "Clean and standardize column names."
   ]
  },
  {
   "cell_type": "code",
   "execution_count": null,
   "metadata": {},
   "source": [
    "# Define new column names\n",
    "new_columns = [\n",
    "    'Age (Years)', 'Sex (Male/Female)', 'Occupation Type', 'Education Level', 'Economic Status',\n",
    "    'Height (cm)', 'Weight (kg)', 'Systolic Blood Pressure (mmHg)', 'Diastolic Blood Pressure (mmHg)',\n",
    "    'Random Blood Sugar (mg/dL)', 'Smoking Status', 'Hypertension (HTN) Status',\n",
    "    'Diabetes Mellitus (DM) Status', 'Dyslipidemia Status', 'Stroke Status', 'Ischemic Heart Disease (IHD) Status',\n",
    "    'Age Group', 'Body Mass Index (BMI) Group', 'Hypertension Stage'\n",
    "]\n",
    "\n",
    "# Check if the lengths match\n",
    "print(f\"Old Columns: {len(data.columns)}, New Columns: {len(new_columns)}\")\n",
    "\n",
    "# Rename columns\n",
    "data.columns = new_columns\n",
    "\n",
    "# Display column names\n",
    "data.columns"
   ]
  },
  {
   "cell_type": "markdown",
   "metadata": {},
   "source": [
    "## Check Missing Values\n",
    "\n",
    "Check for missing values in the dataset."
   ]
  },
  {
   "cell_type": "code",
   "execution_count": null,
   "metadata": {},
   "source": [
    "# Check for missing values\n",
    "missing_values = data.isnull().sum()\n",
    "\n",
    "# Display columns with missing values\n",
    "print(\"Missing Values in Each Column:\")\n",
    "print(missing_values[missing_values > 0])\n",
    "\n",
    "# Display the total number of missing values\n",
    "total_missing = data.isnull().sum().sum()\n",
    "print(f\"\\nTotal Missing Values in the Dataset: {total_missing}\")"
   ]
  },
  {
   "cell_type": "markdown",
   "metadata": {},
   "source": [
    "## Handle Missing Values\n",
    "\n",
    "Handle missing values in the dataset."
   ]
  },
  {
   "cell_type": "code",
   "execution_count": null,
   "metadata": {},
   "source": [
    "# Fill missing values\n",
    "if 'Random Blood Sugar (mg/dL)' in data.columns:\n",
    "    data['Random Blood Sugar (mg/dL)'].fillna(data['Random Blood Sugar (mg/dL)'].median(), inplace=True)\n",
    "\n",
    "# Check for missing values again\n",
    "missing_values = data.isnull().sum()\n",
    "print(\"Missing Values in Each Column:\")\n",
    "print(missing_values[missing_values > 0])\n",
    "\n",
    "# Display the total number of missing values\n",
    "total_missing = data.isnull().sum().sum()\n",
    "print(f\"\\nTotal Missing Values in the Dataset: {total_missing}\")"
   ]
  },
  {
   "cell_type": "markdown",
   "metadata": {},
   "source": [
    "## Descriptive Statistics\n",
    "\n",
    "Calculate descriptive statistics for the dataset."
   ]
  },
  {
   "cell_type": "code",
   "execution_count": null,
   "metadata": {},
   "source": [
    "# Descriptive statistics for numerical columns\n",
    "data.describe(include=[np.number]).T"
   ]
  },
  {
   "cell_type": "code",
   "execution_count": null,
   "metadata": {},
   "source": [
    "# Descriptive statistics for categorical columns\n",
    "data.describe(include=['category', 'object']).T"
   ]
  },
  {
   "cell_type": "markdown",
   "metadata": {},
   "source": [
    "## Target Variable Distribution\n",
    "\n",
    "Explore the distribution of the target variable."
   ]
  },
  {
   "cell_type": "code",
   "execution_count": null,
   "metadata": {},
   "source": [
    "# Target variable distribution\n",
    "target_counts = data['Ischemic Heart Disease (IHD) Status'].value_counts()\n",
    "target_percentage = target_counts / target_counts.sum() * 100\n",
    "\n",
    "# Create a dataframe for display\n",
    "target_distribution = pd.DataFrame({\n",
    "    'Count': target_counts,\n",
    "    'Percentage': target_percentage\n",
    "})\n",
    "\n",
    "print(\"Target Variable Distribution:\")\n",
    "print(target_distribution)"
   ]
  },
  {
   "cell_type": "code",
   "execution_count": null,
   "metadata": {},
   "source": [
    "# Plot target variable distribution\n",
    "plt.figure(figsize=(10, 6))\n",
    "\n",
    "# Create bar plot\n",
    "ax = sns.barplot(x=target_counts.index, y=target_counts.values, palette='viridis')\n",
    "\n",
    "# Add count and percentage labels\n",
    "for i, (count, percentage) in enumerate(zip(target_counts, target_percentage)):\n",
    "    ax.text(i, count + 5, f'{count} ({percentage:.1f}%)', ha='center')\n",
    "\n",
    "# Set labels\n",
    "plt.title('Ischemic Heart Disease (IHD) Status Distribution')\n",
    "plt.xlabel('Ischemic Heart Disease (IHD) Status')\n",
    "plt.ylabel('Count')\n",
    "\n",
    "plt.show()"
   ]
  },
  {
   "cell_type": "markdown",
   "metadata": {},
   "source": [
    "## Categorical Features Distribution\n",
    "\n",
    "Explore the distribution of categorical features."
   ]
  },
  {
   "cell_type": "code",
   "execution_count": null,
   "metadata": {},
   "source": [
    "# Define categorical columns\n",
    "categorical_cols = [\n",
    "    'Sex (Male/Female)', 'Occupation Type', 'Education Level',\n",
    "    'Economic Status', 'Smoking Status', 'Hypertension (HTN) Status',\n",
    "    'Diabetes Mellitus (DM) Status', 'Dyslipidemia Status', 'Stroke Status',\n",
    "    'Age Group', 'Body Mass Index (BMI) Group', 'Hypertension Stage'\n",
    "]\n",
    "\n",
    "# Plot categorical features distribution\n",
    "for col in categorical_cols:\n",
    "    plt.figure(figsize=(10, 6))\n",
    "    \n",
    "    # Create countplot\n",
    "    ax = sns.countplot(x=data[col], hue=data['Ischemic Heart Disease (IHD) Status'], palette='viridis')\n",
    "    \n",
    "    # Set labels\n",
    "    plt.title(f'{col} vs Ischemic Heart Disease (IHD) Status')\n",
    "    plt.xlabel(col)\n",
    "    plt.ylabel('Count')\n",
    "    \n",
    "    # Rotate x-axis labels if needed\n",
    "    if len(data[col].unique()) > 5:\n",
    "        plt.xticks(rotation=45, ha='right')\n",
    "    \n",
    "    plt.tight_layout()\n",
    "    plt.show()"
   ]
  },
  {
   "cell_type": "markdown",
   "metadata": {},
   "source": [
    "## Numerical Features Distribution\n",
    "\n",
    "Explore the distribution of numerical features."
   ]
  },
  {
   "cell_type": "code",
   "execution_count": null,
   "metadata": {},
   "source": [
    "# Define numerical columns\n",
    "numerical_cols = [\n",
    "    'Age (Years)', 'Height (cm)', 'Weight (kg)',\n",
    "    'Systolic Blood Pressure (mmHg)', 'Diastolic Blood Pressure (mmHg)',\n",
    "    'Random Blood Sugar (mg/dL)'\n",
    "]\n",
    "\n",
    "# Plot numerical features distribution\n",
    "for col in numerical_cols:\n",
    "    plt.figure(figsize=(12, 5))\n",
    "    \n",
    "    # Create subplot grid\n",
    "    plt.subplot(1, 2, 1)\n",
    "    \n",
    "    # Histogram\n",
    "    sns.histplot(data=data, x=col, hue='Ischemic Heart Disease (IHD) Status', kde=True, palette='viridis')\n",
    "    plt.title(f'Distribution of {col}')\n",
    "    plt.xlabel(col)\n",
    "    plt.ylabel('Count')\n",
    "    \n",
    "    # Boxplot\n",
    "    plt.subplot(1, 2, 2)\n",
    "    sns.boxplot(data=data, x='Ischemic Heart Disease (IHD) Status', y=col, palette='viridis')\n",
    "    plt.title(f'{col} by Ischemic Heart Disease (IHD) Status')\n",
    "    plt.xlabel('Ischemic Heart Disease (IHD) Status')\n",
    "    plt.ylabel(col)\n",
    "    \n",
    "    plt.tight_layout()\n",
    "    plt.show()"
   ]
  },
  {
   "cell_type": "markdown",
   "metadata": {},
   "source": [
    "## Correlation Analysis\n",
    "\n",
    "Analyze correlations between features."
   ]
  },
  {
   "cell_type": "code",
   "execution_count": null,
   "metadata": {},
   "source": [
    "# Calculate correlation matrix\n",
    "corr = data.corr()\n",
    "\n",
    "# Plot correlation matrix\n",
    "plt.figure(figsize=(12, 10))\n",
    "mask = np.triu(np.ones_like(corr, dtype=bool))\n",
    "cmap = sns.diverging_palette(230, 20, as_cmap=True)\n",
    "\n",
    "sns.heatmap(\n",
    "    corr,\n",
    "    mask=mask,\n",
    "    cmap=cmap,\n",
    "    vmax=1,\n",
    "    vmin=-1,\n",
    "    center=0,\n",
    "    square=True,\n",
    "    linewidths=.5,\n",
    "    cbar_kws={\"shrink\": .5},\n",
    "    annot=True,\n",
    "    fmt=\".2f\"\n",
    ")\n",
    "\n",
    "plt.title('Correlation Matrix')\n",
    "plt.tight_layout()\n",
    "plt.show()"
   ]
  },
  {
   "cell_type": "markdown",
   "metadata": {},
   "source": [
    "## Feature Engineering\n",
    "\n",
    "Create new features from existing ones."
   ]
  },
  {
   "cell_type": "code",
   "execution_count": null,
   "metadata": {},
   "source": [
    "# Calculate BMI\n",
    "data['BMI'] = data['Weight (kg)'] / ((data['Height (cm)'] / 100) ** 2)\n",
    "print(f\"BMI statistics:\\n{data['BMI'].describe()}\")\n",
    "\n",
    "# Calculate pulse pressure\n",
    "data['Pulse Pressure'] = data['Systolic Blood Pressure (mmHg)'] - data['Diastolic Blood Pressure (mmHg)']\n",
    "print(f\"\\nPulse Pressure statistics:\\n{data['Pulse Pressure'].describe()}\")\n",
    "\n",
    "# Calculate mean arterial pressure\n",
    "data['Mean Arterial Pressure'] = (\n",
    "    data['Diastolic Blood Pressure (mmHg)'] + \n",
    "    (1/3) * (data['Systolic Blood Pressure (mmHg)'] - data['Diastolic Blood Pressure (mmHg)'])\n",
    ")\n",
    "print(f\"\\nMean Arterial Pressure statistics:\\n{data['Mean Arterial Pressure'].describe()}\")"
   ]
  },
  {
   "cell_type": "markdown",
   "metadata": {},
   "source": [
    "## Outlier Detection\n",
    "\n",
    "Detect outliers in numerical features."
   ]
  },
  {
   "cell_type": "code",
   "execution_count": null,
   "metadata": {},
   "source": [
    "# Function to detect outliers using IQR method\n",
    "def detect_outliers_iqr(data, column):\n",
    "    Q1 = data[column].quantile(0.25)\n",
    "    Q3 = data[column].quantile(0.75)\n",
    "    IQR = Q3 - Q1\n",
    "    lower_bound = Q1 - 1.5 * IQR\n",
    "    upper_bound = Q3 + 1.5 * IQR\n",
    "    \n",
    "    outliers = data[(data[column] < lower_bound) | (data[column] > upper_bound)]\n",
    "    return outliers, lower_bound, upper_bound\n",
    "\n",
    "# Detect outliers in numerical columns\n",
    "for col in numerical_cols:\n",
    "    outliers, lower_bound, upper_bound = detect_outliers_iqr(data, col)\n",
    "    \n",
    "    print(f\"\\nOutliers in {col}:\")\n",
    "    print(f\"Number of outliers: {len(outliers)}\")\n",
    "    print(f\"Lower bound: {lower_bound:.2f}\")\n",
    "    print(f\"Upper bound: {upper_bound:.2f}\")\n",
    "    \n",
    "    if len(outliers) > 0:\n",
    "        plt.figure(figsize=(10, 6))\n",
    "        \n",
    "        # Create boxplot\n",
    "        sns.boxplot(x=data[col], palette='viridis')\n",
    "        \n",
    "        # Add vertical lines for bounds\n",
    "        plt.axvline(x=lower_bound, color='r', linestyle='--', label=f'Lower Bound: {lower_bound:.2f}')\n",
    "        plt.axvline(x=upper_bound, color='r', linestyle='--', label=f'Upper Bound: {upper_bound:.2f}')\n",
    "        \n",
    "        # Set labels\n",
    "        plt.title(f'Boxplot of {col} with Outlier Bounds')\n",
    "        plt.xlabel(col)\n",
    "        plt.legend()\n",
    "        \n",
    "        plt.tight_layout()\n",
    "        plt.show()"
   ]
  },
  {
   "cell_type": "markdown",
   "metadata": {},
   "source": [
    "## Conclusion\n",
    "\n",
    "Summarize the findings from the exploratory data analysis."
   ]
  },
  {
   "cell_type": "code",
   "execution_count": null,
   "metadata": {},
   "source": [
    "# Print summary statistics\n",
    "print(\"Dataset Summary:\")\n",
    "print(f\"Number of samples: {len(data)}\")\n",
    "print(f\"Number of features: {len(data.columns) - 1}\")\n",
    "print(f\"Target variable: Ischemic Heart Disease (IHD) Status\")\n",
    "print(f\"Target distribution: {dict(target_counts)}\")\n",
    "print(f\"Missing values: {total_missing}\")\n",
    "\n",
    "# Print key findings\n",
    "print(\"\\nKey Findings:\")\n",
    "print(\"1. [Add your findings here]\")\n",
    "print(\"2. [Add your findings here]\")\n",
    "print(\"3. [Add your findings here]\")"
   ]
  }
 ],
 "metadata": {
  "kernelspec": {
   "display_name": "Python 3",
   "language": "python",
   "name": "python3"
  },
  "language_info": {
   "codemirror_mode": {
    "name": "ipython",
    "version": 3
   },
   "file_extension": ".py",
   "mimetype": "text/x-python",
   "name": "python",
   "nbconvert_exporter": "python",
   "pygments_lexer": "ipython3",
   "version": "3.8.10"
  }
 },
 "nbformat": 4,
 "nbformat_minor": 4
}
